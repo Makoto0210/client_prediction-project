{
 "cells": [
  {
   "cell_type": "code",
   "execution_count": 2,
   "id": "technical-reproduction",
   "metadata": {},
   "outputs": [],
   "source": [
    "import numpy as np\n",
    "import pandas as pd\n",
    "from sklearn.neighbors import KNeighborsClassifier   \n",
    "from sklearn.datasets import load_iris\n",
    "from sklearn.neighbors import KNeighborsClassifier\n",
    "from sklearn.model_selection import train_test_split\n",
    "from sklearn import metrics\n",
    "from sklearn.ensemble import BaggingClassifier\n",
    "from sklearn.model_selection import GridSearchCV\n",
    "from sklearn.preprocessing import StandardScaler\n",
    "from sklearn.feature_selection import SelectKBest,f_regression\n",
    "from sklearn.ensemble import AdaBoostClassifier\n",
    "from sklearn.ensemble import BaggingClassifier\n",
    "from sklearn.model_selection import GridSearchCV\n",
    "from sklearn.preprocessing import StandardScaler\n",
    "from sklearn.feature_selection import SelectKBest,f_regression\n",
    "from sklearn.ensemble import ExtraTreesClassifier\n",
    "from sklearn.ensemble import ExtraTreesClassifier\n",
    "from sklearn.datasets import make_classification\n",
    "from xgboost import XGBClassifier\n",
    "from lightgbm import LGBMClassifier"
   ]
  },
  {
   "cell_type": "code",
   "execution_count": 3,
   "id": "convertible-toddler",
   "metadata": {},
   "outputs": [],
   "source": [
    "train = pd.read_csv('train.csv')\n",
    "test = pd.read_csv('test.csv')   \n",
    "train_X1 = train[['CreditScore', 'Geography', 'Gender', 'Age', 'Tenure', 'Balance', 'NumOfProducts', 'HasCrCard', 'IsActiveMember']]\n",
    "train_y = train['Exited'].values.tolist()\n",
    "test_X1 = test[['CreditScore', 'Geography', 'Gender', 'Age', 'Tenure', 'Balance', 'NumOfProducts', 'HasCrCard', 'IsActiveMember']]\n",
    "test_RN = test['RowNumber'].values.tolist() \n",
    "sc = StandardScaler()\n",
    "train_X = pd.get_dummies(train_X1).values\n",
    "test_X = pd.get_dummies(test_X1).values\n",
    "train_X = sc.fit_transform(train_X)\n",
    "test_X = sc.transform(test_X)"
   ]
  },
  {
   "cell_type": "code",
   "execution_count": 5,
   "id": "metric-suggestion",
   "metadata": {},
   "outputs": [],
   "source": [
    "LGBM = LGBMClassifier(max_bin=255, n_estimators=100,max_depth=10)\n",
    "\n",
    "LGBM.fit(train_X, train_y )\n",
    "pred_y =LGBM.predict(test_X)\n",
    "final = {\"RowNumber\":test_RN,'Exited':pred_y}\n",
    "final_df = pd.DataFrame(final)\n",
    "final_df.to_csv('LGBMClassifier2.csv')\n",
    "\n",
    "\n",
    "#acc: 0.8650\n",
    "#precision: 0.6842\n",
    "#fScore: 0.5909\n",
    "\n",
    "#acc: 0.8625\n",
    "#precision: 0.6724\n",
    "#fScore: 0.5865"
   ]
  },
  {
   "cell_type": "code",
   "execution_count": 11,
   "id": "f7715ded",
   "metadata": {},
   "outputs": [
    {
     "data": {
      "text/plain": [
       "Ellipsis"
      ]
     },
     "execution_count": 11,
     "metadata": {},
     "output_type": "execute_result"
    }
   ],
   "source": [
    "\n",
    "...                             "
   ]
  },
  {
   "cell_type": "code",
   "execution_count": 8,
   "id": "325a4c84",
   "metadata": {},
   "outputs": [],
   "source": [
    "\n"
   ]
  }
 ],
 "metadata": {
  "kernelspec": {
   "display_name": "Python 3",
   "language": "python",
   "name": "python3"
  },
  "language_info": {
   "codemirror_mode": {
    "name": "ipython",
    "version": 3
   },
   "file_extension": ".py",
   "mimetype": "text/x-python",
   "name": "python",
   "nbconvert_exporter": "python",
   "pygments_lexer": "ipython3",
   "version": "3.8.8"
  }
 },
 "nbformat": 4,
 "nbformat_minor": 5
}
