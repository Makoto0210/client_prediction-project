{
 "cells": [
  {
   "cell_type": "code",
   "execution_count": 10,
   "id": "technical-reproduction",
   "metadata": {},
   "outputs": [],
   "source": [
    "import numpy as np\n",
    "import pandas as pd\n",
    "from sklearn.neighbors import KNeighborsClassifier   \n",
    "from sklearn.datasets import load_iris\n",
    "from sklearn.neighbors import KNeighborsClassifier\n",
    "from sklearn.model_selection import train_test_split\n",
    "from sklearn.ensemble import AdaBoostClassifier\n",
    "from sklearn import metrics\n",
    "from sklearn.ensemble import BaggingClassifier\n",
    "from sklearn.model_selection import GridSearchCV\n",
    "from sklearn.preprocessing import StandardScaler\n",
    "from sklearn.feature_selection import SelectKBest,f_regression\n",
    "from sklearn import ensemble, preprocessing, metrics"
   ]
  },
  {
   "cell_type": "code",
   "execution_count": 11,
   "id": "infrared-message",
   "metadata": {},
   "outputs": [],
   "source": [
    "train = pd.read_csv('train.csv')\n",
    "test = pd.read_csv('test.csv')    "
   ]
  },
  {
   "cell_type": "code",
   "execution_count": 12,
   "id": "convertible-toddler",
   "metadata": {},
   "outputs": [],
   "source": [
    "train_X1 = train[['CreditScore', 'Geography', 'Gender', 'Age', 'Tenure', 'Balance', 'NumOfProducts', 'HasCrCard', 'IsActiveMember', 'EstimatedSalary']]\n",
    "train_y = train['Exited'].values\n",
    "test_X1 = test[['CreditScore', 'Geography', 'Gender', 'Age', 'Tenure', 'Balance', 'NumOfProducts', 'HasCrCard', 'IsActiveMember', 'EstimatedSalary']]\n",
    "test_RN = test['RowNumber'].values"
   ]
  },
  {
   "cell_type": "code",
   "execution_count": 13,
   "id": "atomic-segment",
   "metadata": {},
   "outputs": [],
   "source": [
    "train_X = pd.get_dummies(train_X1).values\n",
    "test_X = pd.get_dummies(test_X1).values\n",
    "pd.get_dummies(test_X1)\n",
    "\n",
    "transfer = StandardScaler()\n",
    "transfer .fit(train_X)\n",
    "train_X  = transfer.transform(train_X )\n",
    "test_X = transfer.transform(test_X)"
   ]
  },
  {
   "cell_type": "code",
   "execution_count": 15,
   "id": "searching-belly",
   "metadata": {},
   "outputs": [],
   "source": [
    "classifier = AdaBoostClassifier(ensemble.RandomForestClassifier(n_estimators=100, random_state=0))\n",
    "classifier.fit(train_X, train_y)\n",
    "pred_y = classifier.predict(test_X)\n",
    "final = {\"RowNumber\":test_RN,'Exited':pred_y}\n",
    "final_df = pd.DataFrame(final)\n",
    "final_df.to_csv('addrandom_tree.csv')\n",
    "acc: 0.8650\t\t\tprecision: 0.7059\t\tfScore: 0.5714"
   ]
  }
 ],
 "metadata": {
  "kernelspec": {
   "display_name": "Python 3",
   "language": "python",
   "name": "python3"
  },
  "language_info": {
   "codemirror_mode": {
    "name": "ipython",
    "version": 3
   },
   "file_extension": ".py",
   "mimetype": "text/x-python",
   "name": "python",
   "nbconvert_exporter": "python",
   "pygments_lexer": "ipython3",
   "version": "3.8.8"
  }
 },
 "nbformat": 4,
 "nbformat_minor": 5
}
