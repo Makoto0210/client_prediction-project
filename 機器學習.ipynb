{
 "cells": [
  {
   "cell_type": "markdown",
   "id": "eda7c657",
   "metadata": {},
   "source": [
    "Overfitting\n",
    "    過度學習訓練資料，比方說訓練一個可以成功辨別貴賓狗的模型，若模型在訓練時都將資料給到黑色貴賓狗，模型因此會對黑色這個特徵敏感，因此若出現黑色貴賓狗雖然可以精準判斷，但若出現其他顏色則會有準確度的問題，也就是過度學習。"
   ]
  }
 ],
 "metadata": {
  "kernelspec": {
   "display_name": "Python 3 (ipykernel)",
   "language": "python",
   "name": "python3"
  },
  "language_info": {
   "codemirror_mode": {
    "name": "ipython",
    "version": 3
   },
   "file_extension": ".py",
   "mimetype": "text/x-python",
   "name": "python",
   "nbconvert_exporter": "python",
   "pygments_lexer": "ipython3",
   "version": "3.9.12"
  }
 },
 "nbformat": 4,
 "nbformat_minor": 5
}
