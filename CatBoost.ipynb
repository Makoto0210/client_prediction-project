{
 "cells": [
  {
   "cell_type": "code",
   "execution_count": 2,
   "id": "martial-oregon",
   "metadata": {},
   "outputs": [],
   "source": [
    "import numpy as np\n",
    "import pandas as pd \n",
    "from sklearn.preprocessing import StandardScaler\n",
    "sc = StandardScaler()\n",
    "from sklearn.experimental import enable_hist_gradient_boosting\n",
    "from sklearn.ensemble import HistGradientBoostingClassifier\n",
    "from catboost import CatBoostClassifier\n",
    "from sklearn.experimental import enable_hist_gradient_boosting"
   ]
  },
  {
   "cell_type": "code",
   "execution_count": 3,
   "id": "wooden-blackjack",
   "metadata": {},
   "outputs": [],
   "source": [
    "train = pd.read_csv('train.csv')\n",
    "test = pd.read_csv('test.csv')   \n",
    "train_X1 = train[['CreditScore', 'Geography', 'Gender', 'Age', 'Tenure', 'Balance', 'NumOfProducts', 'HasCrCard', 'IsActiveMember']]\n",
    "train_y = train['Exited'].values.tolist()\n",
    "test_X1 = test[['CreditScore', 'Geography', 'Gender', 'Age', 'Tenure', 'Balance', 'NumOfProducts', 'HasCrCard', 'IsActiveMember']]\n",
    "test_RN = test['RowNumber'].values.tolist() \n",
    "train_X = pd.get_dummies(train_X1).values\n",
    "test_X = pd.get_dummies(test_X1).values\n",
    "train_X = sc.fit_transform(train_X)\n",
    "test_X = sc.transform(test_X)"
   ]
  },
  {
   "cell_type": "code",
   "execution_count": 7,
   "id": "prime-vancouver",
   "metadata": {},
   "outputs": [],
   "source": [
    "classifier=CatBoostClassifier(verbose=0, n_estimators=100,depth=5)\n",
    "classifier.fit(train_X, train_y )\n",
    "pred_y = classifier.predict(test_X) \n",
    "final = {\"RowNumber\":test_RN,'Exited':pred_y}\n",
    "final_df = pd.DataFrame(final)\n",
    "final_df.to_csv('CatBoostClassifier1.csv')\n",
    "#acc: 0.8625\n",
    "#precision: 0.6852\n",
    "#fScore: 0.5736\n",
    "\n",
    "#acc: 0.8575\n",
    "#precision: 0.6500\n",
    "#fScore: 0.5778\n",
    "\n",
    "#acc: 0.8532\n",
    "#precision: 0.6439\n",
    "#fScore: 0.5772"
   ]
  }
 ],
 "metadata": {
  "kernelspec": {
   "display_name": "Python 3",
   "language": "python",
   "name": "python3"
  },
  "language_info": {
   "codemirror_mode": {
    "name": "ipython",
    "version": 3
   },
   "file_extension": ".py",
   "mimetype": "text/x-python",
   "name": "python",
   "nbconvert_exporter": "python",
   "pygments_lexer": "ipython3",
   "version": "3.8.8"
  }
 },
 "nbformat": 4,
 "nbformat_minor": 5
}
