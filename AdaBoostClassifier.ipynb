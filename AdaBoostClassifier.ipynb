{
 "cells": [
  {
   "cell_type": "code",
   "execution_count": 1,
   "id": "minimal-browser",
   "metadata": {},
   "outputs": [],
   "source": [
    "import numpy as np\n",
    "import pandas as pd\n",
    "from sklearn.tree import DecisionTreeClassifier\n",
    "dt = DecisionTreeClassifier()\n",
    "from sklearn.preprocessing import StandardScaler\n",
    "from sklearn.ensemble import AdaBoostClassifier\n",
    "classifier = AdaBoostClassifier(n_estimators=100,base_estimator=dt)"
   ]
  },
  {
   "cell_type": "code",
   "execution_count": null,
   "id": "e0bf9853",
   "metadata": {},
   "outputs": [],
   "source": [
    "**<font size=5 face=雅黑>Adaboost介紹</font>**"
   ]
  },
  {
   "cell_type": "code",
   "execution_count": null,
   "id": "5dfdcb47",
   "metadata": {},
   "outputs": [],
   "source": [
    "優點:\n",
    "    1.速度快，不太需要調整參數\n",
    "    2.可以將dicition tree 的 prediction提高，與svm媲美\n",
    "    3.基本不會有overfitting的情況\n",
    "    \n",
    "造成overditting的原因及解決\n",
    "    1.training data太少 - 必須取得更多資料，且要取得對於模型有用得資料\n",
    "    2.參數太多，模型功能太強 - 可以考慮減少參數，或者將模型Regularization(正規化)\n",
    "    "
   ]
  },
  {
   "cell_type": "code",
   "execution_count": 2,
   "id": "reverse-chosen",
   "metadata": {},
   "outputs": [
    {
     "name": "stdout",
     "output_type": "stream",
     "text": [
      "      CreditScore       Age    Tenure   Balance  NumOfProducts  \\\n",
      "0        1.509906 -0.663721  0.339933  0.428978       0.799546   \n",
      "1        0.866637  1.465241 -0.445812 -1.214512      -0.917139   \n",
      "2        0.697356 -1.595141  0.339933  0.615161      -0.917139   \n",
      "3       -0.656894 -0.397600 -0.445812  0.117359      -0.917139   \n",
      "4        2.068534 -0.131480  0.339933  0.630562      -0.917139   \n",
      "...           ...       ...       ...       ...            ...   \n",
      "7995    -1.063169 -1.062901  1.125677  0.652575       0.799546   \n",
      "7996    -0.487612  0.267700  1.911421  1.440568      -0.917139   \n",
      "7997     0.815853  0.001580  0.339933  1.025801      -0.917139   \n",
      "7998     1.425266 -0.663721 -0.445812  0.577801      -0.917139   \n",
      "7999    -0.521469 -0.131480  0.339933 -1.214512      -0.917139   \n",
      "\n",
      "      EstimatedSalary  Geography_France  Geography_Germany  Geography_Spain  \\\n",
      "0            0.304927                 0                  0                1   \n",
      "1            0.529787                 1                  0                0   \n",
      "2            1.339115                 1                  0                0   \n",
      "3            0.438752                 0                  0                1   \n",
      "4            1.072015                 0                  0                1   \n",
      "...               ...               ...                ...              ...   \n",
      "7995         1.011302                 1                  0                0   \n",
      "7996        -0.033763                 0                  1                0   \n",
      "7997         1.251627                 0                  0                1   \n",
      "7998        -0.188456                 1                  0                0   \n",
      "7999        -1.378566                 1                  0                0   \n",
      "\n",
      "      Gender_Female  Gender_Male  HasCrCard_0  HasCrCard_1  IsActiveMember_0  \\\n",
      "0                 0            1            1            0                 0   \n",
      "1                 1            0            0            1                 1   \n",
      "2                 1            0            0            1                 0   \n",
      "3                 1            0            0            1                 1   \n",
      "4                 0            1            1            0                 0   \n",
      "...             ...          ...          ...          ...               ...   \n",
      "7995              1            0            0            1                 0   \n",
      "7996              1            0            0            1                 1   \n",
      "7997              1            0            0            1                 1   \n",
      "7998              0            1            1            0                 1   \n",
      "7999              1            0            1            0                 1   \n",
      "\n",
      "      IsActiveMember_1  \n",
      "0                    1  \n",
      "1                    0  \n",
      "2                    1  \n",
      "3                    0  \n",
      "4                    1  \n",
      "...                ...  \n",
      "7995                 1  \n",
      "7996                 0  \n",
      "7997                 0  \n",
      "7998                 0  \n",
      "7999                 0  \n",
      "\n",
      "[8000 rows x 15 columns]\n"
     ]
    },
    {
     "name": "stderr",
     "output_type": "stream",
     "text": [
      "<ipython-input-2-acb14c530a45>:6: SettingWithCopyWarning: \n",
      "A value is trying to be set on a copy of a slice from a DataFrame.\n",
      "Try using .loc[row_indexer,col_indexer] = value instead\n",
      "\n",
      "See the caveats in the documentation: https://pandas.pydata.org/pandas-docs/stable/user_guide/indexing.html#returning-a-view-versus-a-copy\n",
      "  train_x[['CreditScore', 'Age', 'Tenure', 'Balance', 'NumOfProducts', 'EstimatedSalary']] = Std.fit_transform(train_x[['CreditScore', 'Age', 'Tenure', 'Balance', 'NumOfProducts', 'EstimatedSalary']]) #標準化\n",
      "c:\\python37\\lib\\site-packages\\pandas\\core\\indexing.py:1738: SettingWithCopyWarning: \n",
      "A value is trying to be set on a copy of a slice from a DataFrame.\n",
      "Try using .loc[row_indexer,col_indexer] = value instead\n",
      "\n",
      "See the caveats in the documentation: https://pandas.pydata.org/pandas-docs/stable/user_guide/indexing.html#returning-a-view-versus-a-copy\n",
      "  self._setitem_single_column(loc, value[:, i].tolist(), pi)\n",
      "c:\\python37\\lib\\site-packages\\pandas\\core\\frame.py:3191: SettingWithCopyWarning: \n",
      "A value is trying to be set on a copy of a slice from a DataFrame.\n",
      "Try using .loc[row_indexer,col_indexer] = value instead\n",
      "\n",
      "See the caveats in the documentation: https://pandas.pydata.org/pandas-docs/stable/user_guide/indexing.html#returning-a-view-versus-a-copy\n",
      "  self[k1] = value[k2]\n",
      "<ipython-input-2-acb14c530a45>:13: SettingWithCopyWarning: \n",
      "A value is trying to be set on a copy of a slice from a DataFrame.\n",
      "Try using .loc[row_indexer,col_indexer] = value instead\n",
      "\n",
      "See the caveats in the documentation: https://pandas.pydata.org/pandas-docs/stable/user_guide/indexing.html#returning-a-view-versus-a-copy\n",
      "  test_x[['CreditScore', 'Age', 'Tenure', 'Balance', 'NumOfProducts', 'EstimatedSalary']] = Std.fit_transform(test_x[['CreditScore', 'Age', 'Tenure', 'Balance', 'NumOfProducts', 'EstimatedSalary']]) #標準化\n",
      "c:\\python37\\lib\\site-packages\\pandas\\core\\indexing.py:1738: SettingWithCopyWarning: \n",
      "A value is trying to be set on a copy of a slice from a DataFrame.\n",
      "Try using .loc[row_indexer,col_indexer] = value instead\n",
      "\n",
      "See the caveats in the documentation: https://pandas.pydata.org/pandas-docs/stable/user_guide/indexing.html#returning-a-view-versus-a-copy\n",
      "  self._setitem_single_column(loc, value[:, i].tolist(), pi)\n",
      "c:\\python37\\lib\\site-packages\\pandas\\core\\frame.py:3191: SettingWithCopyWarning: \n",
      "A value is trying to be set on a copy of a slice from a DataFrame.\n",
      "Try using .loc[row_indexer,col_indexer] = value instead\n",
      "\n",
      "See the caveats in the documentation: https://pandas.pydata.org/pandas-docs/stable/user_guide/indexing.html#returning-a-view-versus-a-copy\n",
      "  self[k1] = value[k2]\n"
     ]
    }
   ],
   "source": [
    "train = pd.read_csv('train.csv')\n",
    "test = pd.read_csv('test.csv')\n",
    "#----------------------------------------------------------------------------------------------------資料前處理\n",
    "train_x = train[['CreditScore', 'Geography', 'Gender', 'Age', 'Tenure', 'Balance', 'NumOfProducts', 'HasCrCard', 'IsActiveMember', 'EstimatedSalary']]\n",
    "Std = StandardScaler()\n",
    "train_x[['CreditScore', 'Age', 'Tenure', 'Balance', 'NumOfProducts', 'EstimatedSalary']] = Std.fit_transform(train_x[['CreditScore', 'Age', 'Tenure', 'Balance', 'NumOfProducts', 'EstimatedSalary']]) #標準化\n",
    "train_x[['HasCrCard','IsActiveMember']] = train_x[['HasCrCard','IsActiveMember']].astype(str)\n",
    "train_x_dummies = pd.get_dummies(train_x)\n",
    "print(train_x_dummies)\n",
    "train_y = train['Exited']\n",
    "#------------------------------------------------------------------------------------------------------------------------------\n",
    "test_x = test[['CreditScore', 'Geography', 'Gender', 'Age', 'Tenure', 'Balance', 'NumOfProducts', 'HasCrCard', 'IsActiveMember', 'EstimatedSalary']]\n",
    "test_x[['CreditScore', 'Age', 'Tenure', 'Balance', 'NumOfProducts', 'EstimatedSalary']] = Std.fit_transform(test_x[['CreditScore', 'Age', 'Tenure', 'Balance', 'NumOfProducts', 'EstimatedSalary']]) #標準化\n",
    "test_x[['HasCrCard','IsActiveMember']] = test_x[['HasCrCard','IsActiveMember']].astype(str)\n",
    "test_x_dummies = pd.get_dummies(test_x)\n",
    "dummy = test_x_dummies.columns.tolist()"
   ]
  },
  {
   "cell_type": "code",
   "execution_count": 3,
   "id": "welsh-status",
   "metadata": {},
   "outputs": [
    {
     "name": "stdout",
     "output_type": "stream",
     "text": [
      "[0 0 0 ... 0 0 0]\n",
      "[False False False ... False False False]\n"
     ]
    }
   ],
   "source": [
    "classifier.fit(train_x_dummies, train_y )\n",
    "pred_y = classifier.predict(test_x_dummies)\n",
    "print(pred_y)\n",
    "pred_y = (pred_y > 0.5)\n",
    "print(pred_y)\n",
    "final = {\"RowNumber\": test[\"RowNumber\"],'Exited':pred_y}\n",
    "final_df = pd.DataFrame(final)\n",
    "final_df.to_csv('final.csv')"
   ]
  },
  {
   "cell_type": "code",
   "execution_count": null,
   "id": "coupled-aurora",
   "metadata": {},
   "outputs": [],
   "source": []
  }
 ],
 "metadata": {
  "kernelspec": {
   "display_name": "Python 3 (ipykernel)",
   "language": "python",
   "name": "python3"
  },
  "language_info": {
   "codemirror_mode": {
    "name": "ipython",
    "version": 3
   },
   "file_extension": ".py",
   "mimetype": "text/x-python",
   "name": "python",
   "nbconvert_exporter": "python",
   "pygments_lexer": "ipython3",
   "version": "3.9.12"
  }
 },
 "nbformat": 4,
 "nbformat_minor": 5
}
